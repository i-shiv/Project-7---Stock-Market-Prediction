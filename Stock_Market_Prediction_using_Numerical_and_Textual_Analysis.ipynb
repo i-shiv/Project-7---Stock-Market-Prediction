{
 "cells": [
  {
   "cell_type": "markdown",
   "id": "3acc0911",
   "metadata": {},
   "source": [
    "# Shiv Raj Singh\n",
    "\n",
    "\n",
    "\n",
    "##  Stock Market Prediction using Numerical and Textual Analysis\n",
    "\n",
    "### Objective: Create a hybrid model for stock price/performance\n",
    "- prediction using numerical analysis of historical stock prices, and sentimental analysis of news headlines\n",
    "- Stock to analyze and predict - SENSEX (S&P BSE SENSEX)\n",
    "\n",
    "\n",
    "### historical stock prices dataset :  finance.yahoo.com\n",
    "### textual (news) dataset :  https://bit.ly/36fFPI6\n"
   ]
  },
  {
   "cell_type": "code",
   "execution_count": 3,
   "id": "470a2aae",
   "metadata": {},
   "outputs": [
    {
     "name": "stderr",
     "output_type": "stream",
     "text": [
      "[nltk_data] Downloading package stopwords to\n",
      "[nltk_data]     C:\\Users\\hp\\AppData\\Roaming\\nltk_data...\n",
      "[nltk_data]   Package stopwords is already up-to-date!\n",
      "[nltk_data] Downloading package vader_lexicon to\n",
      "[nltk_data]     C:\\Users\\hp\\AppData\\Roaming\\nltk_data...\n",
      "[nltk_data]   Package vader_lexicon is already up-to-date!\n"
     ]
    }
   ],
   "source": [
    "#importing the necessary libraries\n",
    "\n",
    "from sklearn.preprocessing import MinMaxScaler\n",
    "from sklearn.metrics import mean_squared_error\n",
    "from sklearn import metrics\n",
    "import pandas as pd\n",
    "import matplotlib.pyplot as plt\n",
    "import numpy as np\n",
    "import math\n",
    "import re\n",
    "import nltk\n",
    "from nltk.corpus import stopwords\n",
    "import seaborn as sns\n",
    "nltk.download('stopwords')\n",
    "nltk.download('vader_lexicon')\n",
    "from nltk.sentiment.vader import SentimentIntensityAnalyzer\n",
    "from sklearn.ensemble import RandomForestRegressor"
   ]
  },
  {
   "cell_type": "code",
   "execution_count": 4,
   "id": "02c6ca25",
   "metadata": {},
   "outputs": [
    {
     "data": {
      "text/html": [
       "<div>\n",
       "<style scoped>\n",
       "    .dataframe tbody tr th:only-of-type {\n",
       "        vertical-align: middle;\n",
       "    }\n",
       "\n",
       "    .dataframe tbody tr th {\n",
       "        vertical-align: top;\n",
       "    }\n",
       "\n",
       "    .dataframe thead th {\n",
       "        text-align: right;\n",
       "    }\n",
       "</style>\n",
       "<table border=\"1\" class=\"dataframe\">\n",
       "  <thead>\n",
       "    <tr style=\"text-align: right;\">\n",
       "      <th></th>\n",
       "      <th>publish_date</th>\n",
       "      <th>headline_category</th>\n",
       "      <th>headline_text</th>\n",
       "    </tr>\n",
       "  </thead>\n",
       "  <tbody>\n",
       "    <tr>\n",
       "      <th>0</th>\n",
       "      <td>20010102</td>\n",
       "      <td>unknown</td>\n",
       "      <td>Status quo will not be disturbed at Ayodhya; s...</td>\n",
       "    </tr>\n",
       "    <tr>\n",
       "      <th>1</th>\n",
       "      <td>20010102</td>\n",
       "      <td>unknown</td>\n",
       "      <td>Fissures in Hurriyat over Pak visit</td>\n",
       "    </tr>\n",
       "    <tr>\n",
       "      <th>2</th>\n",
       "      <td>20010102</td>\n",
       "      <td>unknown</td>\n",
       "      <td>America's unwanted heading for India?</td>\n",
       "    </tr>\n",
       "    <tr>\n",
       "      <th>3</th>\n",
       "      <td>20010102</td>\n",
       "      <td>unknown</td>\n",
       "      <td>For bigwigs; it is destination Goa</td>\n",
       "    </tr>\n",
       "    <tr>\n",
       "      <th>4</th>\n",
       "      <td>20010102</td>\n",
       "      <td>unknown</td>\n",
       "      <td>Extra buses to clear tourist traffic</td>\n",
       "    </tr>\n",
       "  </tbody>\n",
       "</table>\n",
       "</div>"
      ],
      "text/plain": [
       "   publish_date headline_category  \\\n",
       "0      20010102           unknown   \n",
       "1      20010102           unknown   \n",
       "2      20010102           unknown   \n",
       "3      20010102           unknown   \n",
       "4      20010102           unknown   \n",
       "\n",
       "                                       headline_text  \n",
       "0  Status quo will not be disturbed at Ayodhya; s...  \n",
       "1                Fissures in Hurriyat over Pak visit  \n",
       "2              America's unwanted heading for India?  \n",
       "3                 For bigwigs; it is destination Goa  \n",
       "4               Extra buses to clear tourist traffic  "
      ]
     },
     "execution_count": 4,
     "metadata": {},
     "output_type": "execute_result"
    }
   ],
   "source": [
    "# Load the textual (news) dataset\n",
    "\n",
    "df1 = pd.read_csv(\"india-news-headlines.csv\")\n",
    "df1.head()"
   ]
  },
  {
   "cell_type": "code",
   "execution_count": 5,
   "id": "043c1904",
   "metadata": {},
   "outputs": [
    {
     "data": {
      "text/plain": [
       "(3424067, 3)"
      ]
     },
     "execution_count": 5,
     "metadata": {},
     "output_type": "execute_result"
    }
   ],
   "source": [
    "df1.shape"
   ]
  },
  {
   "cell_type": "code",
   "execution_count": 6,
   "id": "eece77ed",
   "metadata": {},
   "outputs": [
    {
     "data": {
      "text/plain": [
       "publish_date         0\n",
       "headline_category    0\n",
       "headline_text        0\n",
       "dtype: int64"
      ]
     },
     "execution_count": 6,
     "metadata": {},
     "output_type": "execute_result"
    }
   ],
   "source": [
    "df1.isnull().sum()     ##Check for duplicated values of the first dataset"
   ]
  },
  {
   "cell_type": "code",
   "execution_count": 7,
   "id": "08df5700",
   "metadata": {},
   "outputs": [
    {
     "data": {
      "text/html": [
       "<div>\n",
       "<style scoped>\n",
       "    .dataframe tbody tr th:only-of-type {\n",
       "        vertical-align: middle;\n",
       "    }\n",
       "\n",
       "    .dataframe tbody tr th {\n",
       "        vertical-align: top;\n",
       "    }\n",
       "\n",
       "    .dataframe thead th {\n",
       "        text-align: right;\n",
       "    }\n",
       "</style>\n",
       "<table border=\"1\" class=\"dataframe\">\n",
       "  <thead>\n",
       "    <tr style=\"text-align: right;\">\n",
       "      <th></th>\n",
       "      <th>publish_date</th>\n",
       "    </tr>\n",
       "  </thead>\n",
       "  <tbody>\n",
       "    <tr>\n",
       "      <th>count</th>\n",
       "      <td>3.424067e+06</td>\n",
       "    </tr>\n",
       "    <tr>\n",
       "      <th>mean</th>\n",
       "      <td>2.012659e+07</td>\n",
       "    </tr>\n",
       "    <tr>\n",
       "      <th>std</th>\n",
       "      <td>4.981132e+04</td>\n",
       "    </tr>\n",
       "    <tr>\n",
       "      <th>min</th>\n",
       "      <td>2.001010e+07</td>\n",
       "    </tr>\n",
       "    <tr>\n",
       "      <th>25%</th>\n",
       "      <td>2.009113e+07</td>\n",
       "    </tr>\n",
       "    <tr>\n",
       "      <th>50%</th>\n",
       "      <td>2.013092e+07</td>\n",
       "    </tr>\n",
       "    <tr>\n",
       "      <th>75%</th>\n",
       "      <td>2.017013e+07</td>\n",
       "    </tr>\n",
       "    <tr>\n",
       "      <th>max</th>\n",
       "      <td>2.020123e+07</td>\n",
       "    </tr>\n",
       "  </tbody>\n",
       "</table>\n",
       "</div>"
      ],
      "text/plain": [
       "       publish_date\n",
       "count  3.424067e+06\n",
       "mean   2.012659e+07\n",
       "std    4.981132e+04\n",
       "min    2.001010e+07\n",
       "25%    2.009113e+07\n",
       "50%    2.013092e+07\n",
       "75%    2.017013e+07\n",
       "max    2.020123e+07"
      ]
     },
     "execution_count": 7,
     "metadata": {},
     "output_type": "execute_result"
    }
   ],
   "source": [
    "df1.describe()   ##summarize the statistics of the dataframe"
   ]
  },
  {
   "cell_type": "code",
   "execution_count": 8,
   "id": "76fabd4e",
   "metadata": {},
   "outputs": [
    {
     "name": "stdout",
     "output_type": "stream",
     "text": [
      "Showing part of the whole dataset:\n"
     ]
    },
    {
     "data": {
      "text/html": [
       "<div>\n",
       "<style scoped>\n",
       "    .dataframe tbody tr th:only-of-type {\n",
       "        vertical-align: middle;\n",
       "    }\n",
       "\n",
       "    .dataframe tbody tr th {\n",
       "        vertical-align: top;\n",
       "    }\n",
       "\n",
       "    .dataframe thead th {\n",
       "        text-align: right;\n",
       "    }\n",
       "</style>\n",
       "<table border=\"1\" class=\"dataframe\">\n",
       "  <thead>\n",
       "    <tr style=\"text-align: right;\">\n",
       "      <th></th>\n",
       "      <th>publish_date</th>\n",
       "      <th>headline_text</th>\n",
       "    </tr>\n",
       "  </thead>\n",
       "  <tbody>\n",
       "    <tr>\n",
       "      <th>0</th>\n",
       "      <td>20010102</td>\n",
       "      <td>Status quo will not be disturbed at Ayodhya; s...</td>\n",
       "    </tr>\n",
       "    <tr>\n",
       "      <th>1</th>\n",
       "      <td>20010102</td>\n",
       "      <td>Fissures in Hurriyat over Pak visit</td>\n",
       "    </tr>\n",
       "    <tr>\n",
       "      <th>2</th>\n",
       "      <td>20010102</td>\n",
       "      <td>America's unwanted heading for India?</td>\n",
       "    </tr>\n",
       "    <tr>\n",
       "      <th>3</th>\n",
       "      <td>20010102</td>\n",
       "      <td>For bigwigs; it is destination Goa</td>\n",
       "    </tr>\n",
       "    <tr>\n",
       "      <th>4</th>\n",
       "      <td>20010102</td>\n",
       "      <td>Extra buses to clear tourist traffic</td>\n",
       "    </tr>\n",
       "    <tr>\n",
       "      <th>...</th>\n",
       "      <td>...</td>\n",
       "      <td>...</td>\n",
       "    </tr>\n",
       "    <tr>\n",
       "      <th>3424057</th>\n",
       "      <td>20201231</td>\n",
       "      <td>50 NRIs reach Singhu; offer help to farmers</td>\n",
       "    </tr>\n",
       "    <tr>\n",
       "      <th>3424058</th>\n",
       "      <td>20201231</td>\n",
       "      <td>Navjot Singh Sidhu tweets apology; says 'wore ...</td>\n",
       "    </tr>\n",
       "    <tr>\n",
       "      <th>3424059</th>\n",
       "      <td>20201231</td>\n",
       "      <td>Azim Premji organisation's name misused to che...</td>\n",
       "    </tr>\n",
       "    <tr>\n",
       "      <th>3424060</th>\n",
       "      <td>20201231</td>\n",
       "      <td>Get govt nod to probe officials: MP to agencies</td>\n",
       "    </tr>\n",
       "    <tr>\n",
       "      <th>3424061</th>\n",
       "      <td>20201231</td>\n",
       "      <td>Peddler nabbed; 10kg ganja seized in Anantapur...</td>\n",
       "    </tr>\n",
       "  </tbody>\n",
       "</table>\n",
       "<p>3424062 rows × 2 columns</p>\n",
       "</div>"
      ],
      "text/plain": [
       "         publish_date                                      headline_text\n",
       "0            20010102  Status quo will not be disturbed at Ayodhya; s...\n",
       "1            20010102                Fissures in Hurriyat over Pak visit\n",
       "2            20010102              America's unwanted heading for India?\n",
       "3            20010102                 For bigwigs; it is destination Goa\n",
       "4            20010102               Extra buses to clear tourist traffic\n",
       "...               ...                                                ...\n",
       "3424057      20201231        50 NRIs reach Singhu; offer help to farmers\n",
       "3424058      20201231  Navjot Singh Sidhu tweets apology; says 'wore ...\n",
       "3424059      20201231  Azim Premji organisation's name misused to che...\n",
       "3424060      20201231    Get govt nod to probe officials: MP to agencies\n",
       "3424061      20201231  Peddler nabbed; 10kg ganja seized in Anantapur...\n",
       "\n",
       "[3424062 rows x 2 columns]"
      ]
     },
     "execution_count": 8,
     "metadata": {},
     "output_type": "execute_result"
    }
   ],
   "source": [
    "df1.drop('headline_category', axis = 1, inplace=True)\n",
    "print('Showing part of the whole dataset:')\n",
    "df1.head(-5)"
   ]
  },
  {
   "cell_type": "code",
   "execution_count": 9,
   "id": "aa2bae0a",
   "metadata": {},
   "outputs": [
    {
     "data": {
      "text/plain": [
       "0    Status quo will not be disturbed at Ayodhya  s...\n",
       "1                  Fissures in Hurriyat over Pak visit\n",
       "2                America's unwanted heading for India \n",
       "3                   For bigwigs  it is destination Goa\n",
       "4                 Extra buses to clear tourist traffic\n",
       "Name: headline_text, dtype: object"
      ]
     },
     "execution_count": 9,
     "metadata": {},
     "output_type": "execute_result"
    }
   ],
   "source": [
    "#removing unwanted characters from the news in the first dataset\n",
    "\n",
    "df1.replace(\"[^a-zA-Z']\",\" \",regex=True,inplace=True)\n",
    "df1[\"headline_text\"].head(5)"
   ]
  },
  {
   "cell_type": "code",
   "execution_count": 10,
   "id": "81f7d1de",
   "metadata": {},
   "outputs": [
    {
     "data": {
      "text/html": [
       "<div>\n",
       "<style scoped>\n",
       "    .dataframe tbody tr th:only-of-type {\n",
       "        vertical-align: middle;\n",
       "    }\n",
       "\n",
       "    .dataframe tbody tr th {\n",
       "        vertical-align: top;\n",
       "    }\n",
       "\n",
       "    .dataframe thead th {\n",
       "        text-align: right;\n",
       "    }\n",
       "</style>\n",
       "<table border=\"1\" class=\"dataframe\">\n",
       "  <thead>\n",
       "    <tr style=\"text-align: right;\">\n",
       "      <th></th>\n",
       "      <th>Date</th>\n",
       "      <th>Open</th>\n",
       "      <th>High</th>\n",
       "      <th>Low</th>\n",
       "      <th>Close</th>\n",
       "      <th>Adj Close</th>\n",
       "      <th>Volume</th>\n",
       "    </tr>\n",
       "  </thead>\n",
       "  <tbody>\n",
       "    <tr>\n",
       "      <th>0</th>\n",
       "      <td>2020-06-08</td>\n",
       "      <td>17.780001</td>\n",
       "      <td>17.885000</td>\n",
       "      <td>17.780001</td>\n",
       "      <td>17.868000</td>\n",
       "      <td>17.868000</td>\n",
       "      <td>15.0</td>\n",
       "    </tr>\n",
       "    <tr>\n",
       "      <th>1</th>\n",
       "      <td>2020-06-09</td>\n",
       "      <td>17.830000</td>\n",
       "      <td>17.830000</td>\n",
       "      <td>17.715000</td>\n",
       "      <td>17.774000</td>\n",
       "      <td>17.774000</td>\n",
       "      <td>3.0</td>\n",
       "    </tr>\n",
       "    <tr>\n",
       "      <th>2</th>\n",
       "      <td>2020-06-10</td>\n",
       "      <td>17.775999</td>\n",
       "      <td>17.775999</td>\n",
       "      <td>17.775999</td>\n",
       "      <td>17.775999</td>\n",
       "      <td>17.775999</td>\n",
       "      <td>0.0</td>\n",
       "    </tr>\n",
       "    <tr>\n",
       "      <th>3</th>\n",
       "      <td>2020-06-11</td>\n",
       "      <td>18.084999</td>\n",
       "      <td>18.084999</td>\n",
       "      <td>17.830000</td>\n",
       "      <td>17.868999</td>\n",
       "      <td>17.868999</td>\n",
       "      <td>5.0</td>\n",
       "    </tr>\n",
       "    <tr>\n",
       "      <th>4</th>\n",
       "      <td>2020-06-12</td>\n",
       "      <td>17.750000</td>\n",
       "      <td>17.750000</td>\n",
       "      <td>17.462000</td>\n",
       "      <td>17.462000</td>\n",
       "      <td>17.462000</td>\n",
       "      <td>13.0</td>\n",
       "    </tr>\n",
       "  </tbody>\n",
       "</table>\n",
       "</div>"
      ],
      "text/plain": [
       "         Date       Open       High        Low      Close  Adj Close  Volume\n",
       "0  2020-06-08  17.780001  17.885000  17.780001  17.868000  17.868000    15.0\n",
       "1  2020-06-09  17.830000  17.830000  17.715000  17.774000  17.774000     3.0\n",
       "2  2020-06-10  17.775999  17.775999  17.775999  17.775999  17.775999     0.0\n",
       "3  2020-06-11  18.084999  18.084999  17.830000  17.868999  17.868999     5.0\n",
       "4  2020-06-12  17.750000  17.750000  17.462000  17.462000  17.462000    13.0"
      ]
     },
     "execution_count": 10,
     "metadata": {},
     "output_type": "execute_result"
    }
   ],
   "source": [
    "# Load the historical stock prices dataset\n",
    "\n",
    "df2 = pd.read_csv(\"hist.csv\")\n",
    "df2.head()"
   ]
  },
  {
   "cell_type": "markdown",
   "id": "b1878ded",
   "metadata": {},
   "source": [
    "# Data exploration of the second dataset"
   ]
  },
  {
   "cell_type": "code",
   "execution_count": 11,
   "id": "4d37bacf",
   "metadata": {},
   "outputs": [
    {
     "data": {
      "text/html": [
       "<div>\n",
       "<style scoped>\n",
       "    .dataframe tbody tr th:only-of-type {\n",
       "        vertical-align: middle;\n",
       "    }\n",
       "\n",
       "    .dataframe tbody tr th {\n",
       "        vertical-align: top;\n",
       "    }\n",
       "\n",
       "    .dataframe thead th {\n",
       "        text-align: right;\n",
       "    }\n",
       "</style>\n",
       "<table border=\"1\" class=\"dataframe\">\n",
       "  <thead>\n",
       "    <tr style=\"text-align: right;\">\n",
       "      <th></th>\n",
       "      <th>Open</th>\n",
       "      <th>High</th>\n",
       "      <th>Low</th>\n",
       "      <th>Close</th>\n",
       "      <th>Adj Close</th>\n",
       "      <th>Volume</th>\n",
       "    </tr>\n",
       "  </thead>\n",
       "  <tbody>\n",
       "    <tr>\n",
       "      <th>count</th>\n",
       "      <td>250.000000</td>\n",
       "      <td>250.000000</td>\n",
       "      <td>250.000000</td>\n",
       "      <td>250.000000</td>\n",
       "      <td>250.000000</td>\n",
       "      <td>250.00000</td>\n",
       "    </tr>\n",
       "    <tr>\n",
       "      <th>mean</th>\n",
       "      <td>24.901064</td>\n",
       "      <td>25.131748</td>\n",
       "      <td>24.659296</td>\n",
       "      <td>24.902280</td>\n",
       "      <td>24.902280</td>\n",
       "      <td>2063.44800</td>\n",
       "    </tr>\n",
       "    <tr>\n",
       "      <th>std</th>\n",
       "      <td>2.854052</td>\n",
       "      <td>2.879741</td>\n",
       "      <td>2.781661</td>\n",
       "      <td>2.810356</td>\n",
       "      <td>2.810356</td>\n",
       "      <td>12091.92945</td>\n",
       "    </tr>\n",
       "    <tr>\n",
       "      <th>min</th>\n",
       "      <td>17.379000</td>\n",
       "      <td>17.495001</td>\n",
       "      <td>17.379000</td>\n",
       "      <td>17.379000</td>\n",
       "      <td>17.379000</td>\n",
       "      <td>0.00000</td>\n",
       "    </tr>\n",
       "    <tr>\n",
       "      <th>25%</th>\n",
       "      <td>24.105000</td>\n",
       "      <td>24.317499</td>\n",
       "      <td>23.945000</td>\n",
       "      <td>24.095500</td>\n",
       "      <td>24.095500</td>\n",
       "      <td>13.50000</td>\n",
       "    </tr>\n",
       "    <tr>\n",
       "      <th>50%</th>\n",
       "      <td>25.517499</td>\n",
       "      <td>25.702500</td>\n",
       "      <td>25.260000</td>\n",
       "      <td>25.485000</td>\n",
       "      <td>25.485000</td>\n",
       "      <td>67.00000</td>\n",
       "    </tr>\n",
       "    <tr>\n",
       "      <th>75%</th>\n",
       "      <td>26.981251</td>\n",
       "      <td>27.158500</td>\n",
       "      <td>26.547500</td>\n",
       "      <td>26.932251</td>\n",
       "      <td>26.932251</td>\n",
       "      <td>213.25000</td>\n",
       "    </tr>\n",
       "    <tr>\n",
       "      <th>max</th>\n",
       "      <td>29.530001</td>\n",
       "      <td>30.160000</td>\n",
       "      <td>28.313999</td>\n",
       "      <td>29.398001</td>\n",
       "      <td>29.398001</td>\n",
       "      <td>131415.00000</td>\n",
       "    </tr>\n",
       "  </tbody>\n",
       "</table>\n",
       "</div>"
      ],
      "text/plain": [
       "             Open        High         Low       Close   Adj Close  \\\n",
       "count  250.000000  250.000000  250.000000  250.000000  250.000000   \n",
       "mean    24.901064   25.131748   24.659296   24.902280   24.902280   \n",
       "std      2.854052    2.879741    2.781661    2.810356    2.810356   \n",
       "min     17.379000   17.495001   17.379000   17.379000   17.379000   \n",
       "25%     24.105000   24.317499   23.945000   24.095500   24.095500   \n",
       "50%     25.517499   25.702500   25.260000   25.485000   25.485000   \n",
       "75%     26.981251   27.158500   26.547500   26.932251   26.932251   \n",
       "max     29.530001   30.160000   28.313999   29.398001   29.398001   \n",
       "\n",
       "             Volume  \n",
       "count     250.00000  \n",
       "mean     2063.44800  \n",
       "std     12091.92945  \n",
       "min         0.00000  \n",
       "25%        13.50000  \n",
       "50%        67.00000  \n",
       "75%       213.25000  \n",
       "max    131415.00000  "
      ]
     },
     "execution_count": 11,
     "metadata": {},
     "output_type": "execute_result"
    }
   ],
   "source": [
    "df2.describe()"
   ]
  },
  {
   "cell_type": "code",
   "execution_count": 12,
   "id": "b4f77348",
   "metadata": {},
   "outputs": [
    {
     "data": {
      "text/plain": [
       "Date         0\n",
       "Open         2\n",
       "High         2\n",
       "Low          2\n",
       "Close        2\n",
       "Adj Close    2\n",
       "Volume       2\n",
       "dtype: int64"
      ]
     },
     "execution_count": 12,
     "metadata": {},
     "output_type": "execute_result"
    }
   ],
   "source": [
    "df2.isnull().sum()"
   ]
  },
  {
   "cell_type": "code",
   "execution_count": 13,
   "id": "aa24e7ce",
   "metadata": {},
   "outputs": [
    {
     "name": "stdout",
     "output_type": "stream",
     "text": [
      "<class 'pandas.core.frame.DataFrame'>\n",
      "RangeIndex: 252 entries, 0 to 251\n",
      "Data columns (total 7 columns):\n",
      " #   Column     Non-Null Count  Dtype         \n",
      "---  ------     --------------  -----         \n",
      " 0   Date       252 non-null    datetime64[ns]\n",
      " 1   Open       250 non-null    float64       \n",
      " 2   High       250 non-null    float64       \n",
      " 3   Low        250 non-null    float64       \n",
      " 4   Close      250 non-null    float64       \n",
      " 5   Adj Close  250 non-null    float64       \n",
      " 6   Volume     250 non-null    float64       \n",
      "dtypes: datetime64[ns](1), float64(6)\n",
      "memory usage: 13.9 KB\n"
     ]
    }
   ],
   "source": [
    "df2[\"Date\"]= pd.to_datetime(df2[\"Date\"])\n",
    "df2.info()"
   ]
  },
  {
   "cell_type": "code",
   "execution_count": 14,
   "id": "792b489e",
   "metadata": {},
   "outputs": [
    {
     "data": {
      "text/html": [
       "<div>\n",
       "<style scoped>\n",
       "    .dataframe tbody tr th:only-of-type {\n",
       "        vertical-align: middle;\n",
       "    }\n",
       "\n",
       "    .dataframe tbody tr th {\n",
       "        vertical-align: top;\n",
       "    }\n",
       "\n",
       "    .dataframe thead th {\n",
       "        text-align: right;\n",
       "    }\n",
       "</style>\n",
       "<table border=\"1\" class=\"dataframe\">\n",
       "  <thead>\n",
       "    <tr style=\"text-align: right;\">\n",
       "      <th></th>\n",
       "      <th>Date</th>\n",
       "      <th>Open</th>\n",
       "      <th>High</th>\n",
       "      <th>Low</th>\n",
       "      <th>Close</th>\n",
       "      <th>Volume</th>\n",
       "    </tr>\n",
       "  </thead>\n",
       "  <tbody>\n",
       "    <tr>\n",
       "      <th>0</th>\n",
       "      <td>2020-06-08</td>\n",
       "      <td>17.780001</td>\n",
       "      <td>17.885000</td>\n",
       "      <td>17.780001</td>\n",
       "      <td>17.868000</td>\n",
       "      <td>15.0</td>\n",
       "    </tr>\n",
       "    <tr>\n",
       "      <th>1</th>\n",
       "      <td>2020-06-09</td>\n",
       "      <td>17.830000</td>\n",
       "      <td>17.830000</td>\n",
       "      <td>17.715000</td>\n",
       "      <td>17.774000</td>\n",
       "      <td>3.0</td>\n",
       "    </tr>\n",
       "    <tr>\n",
       "      <th>2</th>\n",
       "      <td>2020-06-10</td>\n",
       "      <td>17.775999</td>\n",
       "      <td>17.775999</td>\n",
       "      <td>17.775999</td>\n",
       "      <td>17.775999</td>\n",
       "      <td>0.0</td>\n",
       "    </tr>\n",
       "    <tr>\n",
       "      <th>3</th>\n",
       "      <td>2020-06-11</td>\n",
       "      <td>18.084999</td>\n",
       "      <td>18.084999</td>\n",
       "      <td>17.830000</td>\n",
       "      <td>17.868999</td>\n",
       "      <td>5.0</td>\n",
       "    </tr>\n",
       "    <tr>\n",
       "      <th>4</th>\n",
       "      <td>2020-06-12</td>\n",
       "      <td>17.750000</td>\n",
       "      <td>17.750000</td>\n",
       "      <td>17.462000</td>\n",
       "      <td>17.462000</td>\n",
       "      <td>13.0</td>\n",
       "    </tr>\n",
       "    <tr>\n",
       "      <th>...</th>\n",
       "      <td>...</td>\n",
       "      <td>...</td>\n",
       "      <td>...</td>\n",
       "      <td>...</td>\n",
       "      <td>...</td>\n",
       "      <td>...</td>\n",
       "    </tr>\n",
       "    <tr>\n",
       "      <th>242</th>\n",
       "      <td>2021-05-24</td>\n",
       "      <td>27.885000</td>\n",
       "      <td>27.900000</td>\n",
       "      <td>27.740000</td>\n",
       "      <td>27.886999</td>\n",
       "      <td>85.0</td>\n",
       "    </tr>\n",
       "    <tr>\n",
       "      <th>243</th>\n",
       "      <td>2021-05-25</td>\n",
       "      <td>27.750000</td>\n",
       "      <td>28.037001</td>\n",
       "      <td>27.670000</td>\n",
       "      <td>28.037001</td>\n",
       "      <td>81.0</td>\n",
       "    </tr>\n",
       "    <tr>\n",
       "      <th>244</th>\n",
       "      <td>2021-05-26</td>\n",
       "      <td>27.853001</td>\n",
       "      <td>27.853001</td>\n",
       "      <td>27.853001</td>\n",
       "      <td>27.853001</td>\n",
       "      <td>744.0</td>\n",
       "    </tr>\n",
       "    <tr>\n",
       "      <th>245</th>\n",
       "      <td>2021-05-27</td>\n",
       "      <td>27.754999</td>\n",
       "      <td>27.920000</td>\n",
       "      <td>27.695000</td>\n",
       "      <td>27.919001</td>\n",
       "      <td>525.0</td>\n",
       "    </tr>\n",
       "    <tr>\n",
       "      <th>246</th>\n",
       "      <td>2021-05-28</td>\n",
       "      <td>27.745001</td>\n",
       "      <td>27.993000</td>\n",
       "      <td>27.540001</td>\n",
       "      <td>27.993000</td>\n",
       "      <td>181.0</td>\n",
       "    </tr>\n",
       "  </tbody>\n",
       "</table>\n",
       "<p>247 rows × 6 columns</p>\n",
       "</div>"
      ],
      "text/plain": [
       "          Date       Open       High        Low      Close  Volume\n",
       "0   2020-06-08  17.780001  17.885000  17.780001  17.868000    15.0\n",
       "1   2020-06-09  17.830000  17.830000  17.715000  17.774000     3.0\n",
       "2   2020-06-10  17.775999  17.775999  17.775999  17.775999     0.0\n",
       "3   2020-06-11  18.084999  18.084999  17.830000  17.868999     5.0\n",
       "4   2020-06-12  17.750000  17.750000  17.462000  17.462000    13.0\n",
       "..         ...        ...        ...        ...        ...     ...\n",
       "242 2021-05-24  27.885000  27.900000  27.740000  27.886999    85.0\n",
       "243 2021-05-25  27.750000  28.037001  27.670000  28.037001    81.0\n",
       "244 2021-05-26  27.853001  27.853001  27.853001  27.853001   744.0\n",
       "245 2021-05-27  27.754999  27.920000  27.695000  27.919001   525.0\n",
       "246 2021-05-28  27.745001  27.993000  27.540001  27.993000   181.0\n",
       "\n",
       "[247 rows x 6 columns]"
      ]
     },
     "execution_count": 14,
     "metadata": {},
     "output_type": "execute_result"
    }
   ],
   "source": [
    "df2=df2[[\"Date\",\"Open\",\"High\",\"Low\",\"Close\",\"Volume\"]] #Analysing the information of the second dataset\n",
    "df2.head(-5)"
   ]
  },
  {
   "cell_type": "markdown",
   "id": "2f844564",
   "metadata": {},
   "source": [
    "# Analysis and visualisation of numerical data"
   ]
  },
  {
   "cell_type": "code",
   "execution_count": 15,
   "id": "5dc3bd0a",
   "metadata": {},
   "outputs": [
    {
     "data": {
      "text/plain": [
       "[<matplotlib.lines.Line2D at 0x225000713d0>]"
      ]
     },
     "execution_count": 15,
     "metadata": {},
     "output_type": "execute_result"
    },
    {
     "data": {
      "image/png": "[encoded data removed]",
      "text/plain": [
       "<Figure size 1080x360 with 1 Axes>"
      ]
     },
     "metadata": {
      "needs_background": "light"
     },
     "output_type": "display_data"
    }
   ],
   "source": [
    "# Extract the dataframe and visualise the stock price with respect to time\n",
    "df2['Date'] = pd.to_datetime(df2.Date,format='%Y-%m-%d')\n",
    "df2.index = df2['Date']\n",
    "df2.dropna(inplace=True)\n",
    "#plot\n",
    "plt.figure(figsize=(15,5))\n",
    "plt.plot(df2['Close'], label='Close Price history')"
   ]
  },
  {
   "cell_type": "code",
   "execution_count": 16,
   "id": "194ae269",
   "metadata": {},
   "outputs": [
    {
     "data": {
      "text/plain": [
       "<matplotlib.legend.Legend at 0x225007c7310>"
      ]
     },
     "execution_count": 16,
     "metadata": {},
     "output_type": "execute_result"
    },
    {
     "data": {
      "image/png": "[encoded data removed]",
      "text/plain": [
       "<Figure size 720x432 with 1 Axes>"
      ]
     },
     "metadata": {
      "needs_background": "light"
     },
     "output_type": "display_data"
    }
   ],
   "source": [
    "#Plotting moving average\n",
    "close = df2['Close']\n",
    "ma = close.rolling(window = 50).mean()\n",
    "std = close.rolling(window = 50).std()\n",
    "\n",
    "plt.figure(figsize=(10, 6))\n",
    "df2['Close'].plot(color = 'g', label = 'Close')\n",
    "ma.plot(color = 'r', label = 'Rolling Mean')\n",
    "std.plot(label = 'Rolling Standard Deviation')\n",
    "plt.legend()"
   ]
  },
  {
   "cell_type": "markdown",
   "id": "82884314",
   "metadata": {},
   "source": [
    "# Making predictions of the numerical data"
   ]
  },
  {
   "cell_type": "code",
   "execution_count": 17,
   "id": "b268d81e",
   "metadata": {},
   "outputs": [
    {
     "data": {
      "text/html": [
       "<div>\n",
       "<style scoped>\n",
       "    .dataframe tbody tr th:only-of-type {\n",
       "        vertical-align: middle;\n",
       "    }\n",
       "\n",
       "    .dataframe tbody tr th {\n",
       "        vertical-align: top;\n",
       "    }\n",
       "\n",
       "    .dataframe thead th {\n",
       "        text-align: right;\n",
       "    }\n",
       "</style>\n",
       "<table border=\"1\" class=\"dataframe\">\n",
       "  <thead>\n",
       "    <tr style=\"text-align: right;\">\n",
       "      <th></th>\n",
       "      <th>publish_date</th>\n",
       "      <th>headline_text</th>\n",
       "    </tr>\n",
       "  </thead>\n",
       "  <tbody>\n",
       "    <tr>\n",
       "      <th>0</th>\n",
       "      <td>20010102</td>\n",
       "      <td>Status quo will not be disturbed at Ayodhya  s...</td>\n",
       "    </tr>\n",
       "    <tr>\n",
       "      <th>1</th>\n",
       "      <td>20010102</td>\n",
       "      <td>Fissures in Hurriyat over Pak visit</td>\n",
       "    </tr>\n",
       "    <tr>\n",
       "      <th>2</th>\n",
       "      <td>20010102</td>\n",
       "      <td>America's unwanted heading for India</td>\n",
       "    </tr>\n",
       "    <tr>\n",
       "      <th>3</th>\n",
       "      <td>20010102</td>\n",
       "      <td>For bigwigs  it is destination Goa</td>\n",
       "    </tr>\n",
       "    <tr>\n",
       "      <th>4</th>\n",
       "      <td>20010102</td>\n",
       "      <td>Extra buses to clear tourist traffic</td>\n",
       "    </tr>\n",
       "  </tbody>\n",
       "</table>\n",
       "</div>"
      ],
      "text/plain": [
       "   publish_date                                      headline_text\n",
       "0      20010102  Status quo will not be disturbed at Ayodhya  s...\n",
       "1      20010102                Fissures in Hurriyat over Pak visit\n",
       "2      20010102              America's unwanted heading for India \n",
       "3      20010102                 For bigwigs  it is destination Goa\n",
       "4      20010102               Extra buses to clear tourist traffic"
      ]
     },
     "execution_count": 17,
     "metadata": {},
     "output_type": "execute_result"
    }
   ],
   "source": [
    "train = df1[:700]\n",
    "valid = df1[700:]\n",
    "train.head()"
   ]
  },
  {
   "cell_type": "code",
   "execution_count": 18,
   "id": "6dd1d8cb",
   "metadata": {},
   "outputs": [
    {
     "name": "stderr",
     "output_type": "stream",
     "text": [
      "C:\\Users\\hp\\anaconda3\\lib\\site-packages\\IPython\\core\\interactiveshell.py:3165: DtypeWarning: Columns (0) have mixed types.Specify dtype option on import or set low_memory=False.\n",
      "  has_raised = await self.run_ast_nodes(code_ast.body, cell_name,\n"
     ]
    },
    {
     "data": {
      "text/html": [
       "<div>\n",
       "<style scoped>\n",
       "    .dataframe tbody tr th:only-of-type {\n",
       "        vertical-align: middle;\n",
       "    }\n",
       "\n",
       "    .dataframe tbody tr th {\n",
       "        vertical-align: top;\n",
       "    }\n",
       "\n",
       "    .dataframe thead th {\n",
       "        text-align: right;\n",
       "    }\n",
       "</style>\n",
       "<table border=\"1\" class=\"dataframe\">\n",
       "  <thead>\n",
       "    <tr style=\"text-align: right;\">\n",
       "      <th></th>\n",
       "      <th>Date</th>\n",
       "      <th>Category</th>\n",
       "      <th>News</th>\n",
       "    </tr>\n",
       "  </thead>\n",
       "  <tbody>\n",
       "    <tr>\n",
       "      <th>0</th>\n",
       "      <td>publish_date</td>\n",
       "      <td>headline_category</td>\n",
       "      <td>headline_text</td>\n",
       "    </tr>\n",
       "    <tr>\n",
       "      <th>1</th>\n",
       "      <td>20010102</td>\n",
       "      <td>unknown</td>\n",
       "      <td>Status quo will not be disturbed at Ayodhya; s...</td>\n",
       "    </tr>\n",
       "    <tr>\n",
       "      <th>2</th>\n",
       "      <td>20010102</td>\n",
       "      <td>unknown</td>\n",
       "      <td>Fissures in Hurriyat over Pak visit</td>\n",
       "    </tr>\n",
       "    <tr>\n",
       "      <th>3</th>\n",
       "      <td>20010102</td>\n",
       "      <td>unknown</td>\n",
       "      <td>America's unwanted heading for India?</td>\n",
       "    </tr>\n",
       "    <tr>\n",
       "      <th>4</th>\n",
       "      <td>20010102</td>\n",
       "      <td>unknown</td>\n",
       "      <td>For bigwigs; it is destination Goa</td>\n",
       "    </tr>\n",
       "    <tr>\n",
       "      <th>...</th>\n",
       "      <td>...</td>\n",
       "      <td>...</td>\n",
       "      <td>...</td>\n",
       "    </tr>\n",
       "    <tr>\n",
       "      <th>3424063</th>\n",
       "      <td>20201231</td>\n",
       "      <td>city.jodhpur</td>\n",
       "      <td>Covid-19: Despite dip in cases; Rajasthan amon...</td>\n",
       "    </tr>\n",
       "    <tr>\n",
       "      <th>3424064</th>\n",
       "      <td>20201231</td>\n",
       "      <td>city.udaipur</td>\n",
       "      <td>Covid-19: Despite dip in cases; Rajasthan amon...</td>\n",
       "    </tr>\n",
       "    <tr>\n",
       "      <th>3424065</th>\n",
       "      <td>20201231</td>\n",
       "      <td>city.ajmer</td>\n",
       "      <td>Covid-19: Despite dip in cases; Rajasthan amon...</td>\n",
       "    </tr>\n",
       "    <tr>\n",
       "      <th>3424066</th>\n",
       "      <td>20201231</td>\n",
       "      <td>removed</td>\n",
       "      <td>Govt extends deadline for use of FASTag till F...</td>\n",
       "    </tr>\n",
       "    <tr>\n",
       "      <th>3424067</th>\n",
       "      <td>20201231</td>\n",
       "      <td>entertainment.bengali.movies.news</td>\n",
       "      <td>Celebs plan to party safely and responsibly on...</td>\n",
       "    </tr>\n",
       "  </tbody>\n",
       "</table>\n",
       "<p>3424068 rows × 3 columns</p>\n",
       "</div>"
      ],
      "text/plain": [
       "                 Date                           Category  \\\n",
       "0        publish_date                  headline_category   \n",
       "1            20010102                            unknown   \n",
       "2            20010102                            unknown   \n",
       "3            20010102                            unknown   \n",
       "4            20010102                            unknown   \n",
       "...               ...                                ...   \n",
       "3424063      20201231                       city.jodhpur   \n",
       "3424064      20201231                       city.udaipur   \n",
       "3424065      20201231                         city.ajmer   \n",
       "3424066      20201231                            removed   \n",
       "3424067      20201231  entertainment.bengali.movies.news   \n",
       "\n",
       "                                                      News  \n",
       "0                                            headline_text  \n",
       "1        Status quo will not be disturbed at Ayodhya; s...  \n",
       "2                      Fissures in Hurriyat over Pak visit  \n",
       "3                    America's unwanted heading for India?  \n",
       "4                       For bigwigs; it is destination Goa  \n",
       "...                                                    ...  \n",
       "3424063  Covid-19: Despite dip in cases; Rajasthan amon...  \n",
       "3424064  Covid-19: Despite dip in cases; Rajasthan amon...  \n",
       "3424065  Covid-19: Despite dip in cases; Rajasthan amon...  \n",
       "3424066  Govt extends deadline for use of FASTag till F...  \n",
       "3424067  Celebs plan to party safely and responsibly on...  \n",
       "\n",
       "[3424068 rows x 3 columns]"
      ]
     },
     "execution_count": 18,
     "metadata": {},
     "output_type": "execute_result"
    }
   ],
   "source": [
    "# Analysis of Textual Data\n",
    "#Text Analysis\n",
    "\n",
    "columns = ['Date','Category','News']\n",
    "news = pd.read_csv('india-news-headlines.csv', names = columns)\n",
    "news"
   ]
  },
  {
   "cell_type": "code",
   "execution_count": 19,
   "id": "6a47f539",
   "metadata": {},
   "outputs": [
    {
     "name": "stdout",
     "output_type": "stream",
     "text": [
      "<class 'pandas.core.frame.DataFrame'>\n",
      "Int64Index: 3424067 entries, 1 to 3424067\n",
      "Data columns (total 2 columns):\n",
      " #   Column  Dtype \n",
      "---  ------  ----- \n",
      " 0   Date    object\n",
      " 1   News    object\n",
      "dtypes: object(2)\n",
      "memory usage: 78.4+ MB\n"
     ]
    }
   ],
   "source": [
    "news.drop(0, inplace=True)   ##Data preprocessing\n",
    "news.drop('Category', axis = 1, inplace=True)\n",
    "news.info()"
   ]
  },
  {
   "cell_type": "code",
   "execution_count": 20,
   "id": "6520fff7",
   "metadata": {},
   "outputs": [
    {
     "data": {
      "text/html": [
       "<div>\n",
       "<style scoped>\n",
       "    .dataframe tbody tr th:only-of-type {\n",
       "        vertical-align: middle;\n",
       "    }\n",
       "\n",
       "    .dataframe tbody tr th {\n",
       "        vertical-align: top;\n",
       "    }\n",
       "\n",
       "    .dataframe thead th {\n",
       "        text-align: right;\n",
       "    }\n",
       "</style>\n",
       "<table border=\"1\" class=\"dataframe\">\n",
       "  <thead>\n",
       "    <tr style=\"text-align: right;\">\n",
       "      <th></th>\n",
       "      <th>Date</th>\n",
       "      <th>News</th>\n",
       "    </tr>\n",
       "  </thead>\n",
       "  <tbody>\n",
       "    <tr>\n",
       "      <th>1</th>\n",
       "      <td>2001-01-02 00:00:00.000000000</td>\n",
       "      <td>Status quo will not be disturbed at Ayodhya; s...</td>\n",
       "    </tr>\n",
       "    <tr>\n",
       "      <th>2</th>\n",
       "      <td>2001-01-02 00:00:00.000000000</td>\n",
       "      <td>Fissures in Hurriyat over Pak visit</td>\n",
       "    </tr>\n",
       "    <tr>\n",
       "      <th>3</th>\n",
       "      <td>2001-01-02 00:00:00.000000000</td>\n",
       "      <td>America's unwanted heading for India?</td>\n",
       "    </tr>\n",
       "    <tr>\n",
       "      <th>4</th>\n",
       "      <td>2001-01-02 00:00:00.000000000</td>\n",
       "      <td>For bigwigs; it is destination Goa</td>\n",
       "    </tr>\n",
       "    <tr>\n",
       "      <th>5</th>\n",
       "      <td>2001-01-02 00:00:00.000000000</td>\n",
       "      <td>Extra buses to clear tourist traffic</td>\n",
       "    </tr>\n",
       "    <tr>\n",
       "      <th>...</th>\n",
       "      <td>...</td>\n",
       "      <td>...</td>\n",
       "    </tr>\n",
       "    <tr>\n",
       "      <th>3424063</th>\n",
       "      <td>1970-01-01 00:00:00.020201231</td>\n",
       "      <td>Covid-19: Despite dip in cases; Rajasthan amon...</td>\n",
       "    </tr>\n",
       "    <tr>\n",
       "      <th>3424064</th>\n",
       "      <td>1970-01-01 00:00:00.020201231</td>\n",
       "      <td>Covid-19: Despite dip in cases; Rajasthan amon...</td>\n",
       "    </tr>\n",
       "    <tr>\n",
       "      <th>3424065</th>\n",
       "      <td>1970-01-01 00:00:00.020201231</td>\n",
       "      <td>Covid-19: Despite dip in cases; Rajasthan amon...</td>\n",
       "    </tr>\n",
       "    <tr>\n",
       "      <th>3424066</th>\n",
       "      <td>1970-01-01 00:00:00.020201231</td>\n",
       "      <td>Govt extends deadline for use of FASTag till F...</td>\n",
       "    </tr>\n",
       "    <tr>\n",
       "      <th>3424067</th>\n",
       "      <td>1970-01-01 00:00:00.020201231</td>\n",
       "      <td>Celebs plan to party safely and responsibly on...</td>\n",
       "    </tr>\n",
       "  </tbody>\n",
       "</table>\n",
       "<p>3424067 rows × 2 columns</p>\n",
       "</div>"
      ],
      "text/plain": [
       "                                 Date  \\\n",
       "1       2001-01-02 00:00:00.000000000   \n",
       "2       2001-01-02 00:00:00.000000000   \n",
       "3       2001-01-02 00:00:00.000000000   \n",
       "4       2001-01-02 00:00:00.000000000   \n",
       "5       2001-01-02 00:00:00.000000000   \n",
       "...                               ...   \n",
       "3424063 1970-01-01 00:00:00.020201231   \n",
       "3424064 1970-01-01 00:00:00.020201231   \n",
       "3424065 1970-01-01 00:00:00.020201231   \n",
       "3424066 1970-01-01 00:00:00.020201231   \n",
       "3424067 1970-01-01 00:00:00.020201231   \n",
       "\n",
       "                                                      News  \n",
       "1        Status quo will not be disturbed at Ayodhya; s...  \n",
       "2                      Fissures in Hurriyat over Pak visit  \n",
       "3                    America's unwanted heading for India?  \n",
       "4                       For bigwigs; it is destination Goa  \n",
       "5                     Extra buses to clear tourist traffic  \n",
       "...                                                    ...  \n",
       "3424063  Covid-19: Despite dip in cases; Rajasthan amon...  \n",
       "3424064  Covid-19: Despite dip in cases; Rajasthan amon...  \n",
       "3424065  Covid-19: Despite dip in cases; Rajasthan amon...  \n",
       "3424066  Govt extends deadline for use of FASTag till F...  \n",
       "3424067  Celebs plan to party safely and responsibly on...  \n",
       "\n",
       "[3424067 rows x 2 columns]"
      ]
     },
     "execution_count": 20,
     "metadata": {},
     "output_type": "execute_result"
    }
   ],
   "source": [
    "# Restructuring the date format\n",
    "news['Date'] = pd.to_datetime(news['Date'],format= '%Y %m %d')\n",
    "news"
   ]
  },
  {
   "cell_type": "markdown",
   "id": "cae3c27b",
   "metadata": {},
   "source": [
    "# Visualisation of textual data"
   ]
  },
  {
   "cell_type": "code",
   "execution_count": 21,
   "id": "75292fc6",
   "metadata": {},
   "outputs": [
    {
     "data": {
      "image/png": "[encoded data removed]",
      "text/plain": [
       "<Figure size 432x288 with 1 Axes>"
      ]
     },
     "metadata": {
      "needs_background": "light"
     },
     "output_type": "display_data"
    },
    {
     "data": {
      "text/plain": [
       "<Figure size 720x288 with 0 Axes>"
      ]
     },
     "metadata": {},
     "output_type": "display_data"
    }
   ],
   "source": [
    "news['News'].str.len().hist()\n",
    "plt.figure(figsize=(10,4))\n",
    "plt.show()"
   ]
  },
  {
   "cell_type": "markdown",
   "id": "c974f3a0",
   "metadata": {},
   "source": [
    "# Addition of subjectivity and polarity scores"
   ]
  },
  {
   "cell_type": "code",
   "execution_count": 22,
   "id": "72eb54fb",
   "metadata": {},
   "outputs": [
    {
     "name": "stdout",
     "output_type": "stream",
     "text": [
      "Collecting textblob\n",
      "  Downloading textblob-0.15.3-py2.py3-none-any.whl (636 kB)\n",
      "Requirement already satisfied: nltk>=3.1 in c:\\users\\hp\\anaconda3\\lib\\site-packages (from textblob) (3.6.1)\n",
      "Requirement already satisfied: joblib in c:\\users\\hp\\anaconda3\\lib\\site-packages (from nltk>=3.1->textblob) (1.0.1)\n",
      "Requirement already satisfied: click in c:\\users\\hp\\anaconda3\\lib\\site-packages (from nltk>=3.1->textblob) (7.1.2)\n",
      "Requirement already satisfied: tqdm in c:\\users\\hp\\anaconda3\\lib\\site-packages (from nltk>=3.1->textblob) (4.59.0)\n",
      "Requirement already satisfied: regex in c:\\users\\hp\\anaconda3\\lib\\site-packages (from nltk>=3.1->textblob) (2021.4.4)\n",
      "Installing collected packages: textblob\n",
      "Successfully installed textblob-0.15.3\n"
     ]
    }
   ],
   "source": [
    "!pip install textblob"
   ]
  },
  {
   "cell_type": "code",
   "execution_count": 23,
   "id": "8c405556",
   "metadata": {},
   "outputs": [],
   "source": [
    "import nltk \n",
    "from nltk.sentiment.vader import SentimentIntensityAnalyzer   ##Libraries necessary for sentiment analysis\n",
    "\n",
    "from textblob import TextBlob\n",
    "\n",
    "def getSubjectivity(text):\n",
    "  return TextBlob(text).sentiment.subjectivity\n",
    "\n",
    "def getPolarity(text):\n",
    "  return  TextBlob(text).sentiment.polarity"
   ]
  },
  {
   "cell_type": "code",
   "execution_count": null,
   "id": "dc305fd0",
   "metadata": {},
   "outputs": [],
   "source": [
    "news['Subjectivity'] = news['News'].apply(getSubjectivity) ##Adding subjectivity score\n",
    "\n",
    "news['Polarity'] = news['News'].apply(getPolarity) ##Adding polarity scores\n",
    "\n",
    "news"
   ]
  },
  {
   "cell_type": "markdown",
   "id": "5cc1a659",
   "metadata": {},
   "source": [
    "# Visualisation of polarity scores"
   ]
  },
  {
   "cell_type": "code",
   "execution_count": null,
   "id": "1904e3f8",
   "metadata": {},
   "outputs": [],
   "source": [
    "plt.figure(figsize = (10,5))\n",
    "news['Polarity'].hist(color = 'green')"
   ]
  },
  {
   "cell_type": "markdown",
   "id": "d6c8bc47",
   "metadata": {},
   "source": [
    "# Visualization of Subjectivity Scores"
   ]
  },
  {
   "cell_type": "code",
   "execution_count": null,
   "id": "33a19307",
   "metadata": {},
   "outputs": [],
   "source": [
    "plt.figure(figsize = (10,6))\n",
    "news['Subjectivity'].hist(color = 'orange')"
   ]
  },
  {
   "cell_type": "code",
   "execution_count": null,
   "id": "e6eccac3",
   "metadata": {},
   "outputs": [],
   "source": [
    "# Performing Sentiment Analysis over the news Headlines\n",
    "\n",
    "sia = SentimentIntensityAnalyzer()  ##Adding sentiment score to news\n",
    "\n",
    "news['Negative'] = [sia.polarity_scores(v)['neg'] for v in news['News']] ##Adding sentiment score to news\n",
    "\n",
    "news['Neutral'] = [sia.polarity_scores(v)['neu'] for v in news['News']] ##Adding sentiment score to news\n",
    "\n",
    "news['Positive'] = [sia.polarity_scores(v)['pos'] for v in news['News']] ##Adding sentiment score to news\n",
    "\n",
    "news   ##Information of the dataframe showing subjectivity, polarity and sentiment score of news"
   ]
  },
  {
   "cell_type": "markdown",
   "id": "a427611c",
   "metadata": {},
   "source": [
    "# Merging numerical and textual data to create a hybrid model"
   ]
  },
  {
   "cell_type": "code",
   "execution_count": null,
   "id": "8e4b4a67",
   "metadata": {},
   "outputs": [],
   "source": [
    "merge = news  ## Merging numerical and textual data to create a hybrid model\n",
    "merge"
   ]
  },
  {
   "cell_type": "markdown",
   "id": "a90b09f2",
   "metadata": {},
   "source": [
    "# Create a dataset for model training"
   ]
  },
  {
   "cell_type": "code",
   "execution_count": null,
   "id": "576d4221",
   "metadata": {},
   "outputs": [],
   "source": [
    "clf = merge[['Subjectivity', 'Polarity',  'Negative', 'Neutral' ,'Positive']]  ##Dataset for the purpose of model training\n",
    "clf"
   ]
  },
  {
   "cell_type": "markdown",
   "id": "2b78c903",
   "metadata": {},
   "source": [
    "# Normalize the data"
   ]
  },
  {
   "cell_type": "code",
   "execution_count": null,
   "id": "324f57bf",
   "metadata": {},
   "outputs": [],
   "source": [
    "from sklearn.preprocessing import MinMaxScaler   ##Import the necessary libraries\n",
    "\n",
    "scaler = MinMaxScaler()\n",
    "\n",
    "df = pd.DataFrame(scaler.fit_transform(clf))\n",
    "\n",
    "df.columns = clf.columns\n",
    "df.index = clf.index\n",
    "df.head()    ##Printing the top 5 rows for observation purpose"
   ]
  },
  {
   "cell_type": "code",
   "execution_count": null,
   "id": "b733296d",
   "metadata": {},
   "outputs": [],
   "source": [
    "df.shape"
   ]
  },
  {
   "cell_type": "code",
   "execution_count": null,
   "id": "cc86597f",
   "metadata": {},
   "outputs": [],
   "source": [
    "X = df[: 1712033]\n",
    "X.head()"
   ]
  },
  {
   "cell_type": "code",
   "execution_count": null,
   "id": "dfdcf839",
   "metadata": {},
   "outputs": [],
   "source": [
    "Y = df[1712034 :]\n",
    "Y.head()"
   ]
  },
  {
   "cell_type": "markdown",
   "id": "1ed94006",
   "metadata": {},
   "source": [
    "# Split the dataset into training and test data"
   ]
  },
  {
   "cell_type": "code",
   "execution_count": null,
   "id": "14c150bd",
   "metadata": {},
   "outputs": [],
   "source": [
    "from sklearn.model_selection import train_test_split\n",
    "\n",
    "x_train, x_test, y_train, y_test = train_test_split(X, Y, test_size=0.2, random_state = 0)\n",
    "\n",
    "x_train[:10]"
   ]
  },
  {
   "cell_type": "markdown",
   "id": "bc53afac",
   "metadata": {},
   "source": [
    "# Implementation Of RandomForestRegressor on the model"
   ]
  },
  {
   "cell_type": "code",
   "execution_count": null,
   "id": "c96a673f",
   "metadata": {},
   "outputs": [],
   "source": [
    "rf = RandomForestRegressor()   ##Implementing the random forest regressor model\n",
    "\n",
    "rf.fit(x_train, y_train)\n",
    "prediction=rf.predict(x_test)\n",
    "\n",
    "print(prediction[:10])\n",
    "print(y_test[:10])"
   ]
  },
  {
   "cell_type": "code",
   "execution_count": null,
   "id": "50bd7fa3",
   "metadata": {},
   "outputs": [],
   "source": [
    "print('Mean Squared error: ',mean_squared_error(prediction,y_test)) ##Calculating the mean squared error of RandomForestRegressor Model"
   ]
  },
  {
   "cell_type": "markdown",
   "id": "fe49a66e",
   "metadata": {},
   "source": [
    "# Observation :\n",
    "So, we can observe that the mean squared error generated from the RandomForestRegressor Model is 0.0.0370(app.)"
   ]
  },
  {
   "cell_type": "markdown",
   "id": "6bdb2bc0",
   "metadata": {},
   "source": [
    "# Implemenation of DecisionTreeRegressor on the Model"
   ]
  },
  {
   "cell_type": "code",
   "execution_count": null,
   "id": "3fb75a12",
   "metadata": {},
   "outputs": [],
   "source": [
    "from sklearn.tree import DecisionTreeRegressor   ##Implementing the DecisionTreeRegressor Model\n",
    "\n",
    "dtr = DecisionTreeRegressor()\n",
    "dtr.fit(x_train, y_train)\n",
    "\n",
    "DecisionTreeRegressor()\n",
    "\n",
    "predictions = dtr.predict(x_test)\n",
    "print(predictions[:10])"
   ]
  },
  {
   "cell_type": "code",
   "execution_count": null,
   "id": "22ca2e46",
   "metadata": {},
   "outputs": [],
   "source": [
    "print(y_test[:10])"
   ]
  },
  {
   "cell_type": "code",
   "execution_count": null,
   "id": "ba92adea",
   "metadata": {},
   "outputs": [],
   "source": [
    "print('Mean Squared error: ',mean_squared_error(predictions,y_test))"
   ]
  },
  {
   "cell_type": "markdown",
   "id": "76fabf7e",
   "metadata": {},
   "source": [
    "# Observation :\n",
    "- So, we can observe that the mean squared error generated from the DecisionTreeRegressor Model is 0.0.03886(app.)\n",
    "\n",
    "# Conclusions :\n",
    "- We were able to create a hybrid model for stock price/performance prediction using numerical analysis of historical stock prices and sentiment analysis of news headlines.\n",
    "\n",
    "- We have used two models, Random Forest Regressor and Decision Tree Regressor for carrying out hybrid analysis.\n",
    "\n",
    "- Since the mean squared error of Random Forest Regressor is 0.0005 , therefore it serves as a suitable model for hybrid analysis."
   ]
  }
 ],
 "metadata": {
  "kernelspec": {
   "display_name": "Python 3",
   "language": "python",
   "name": "python3"
  },
  "language_info": {
   "codemirror_mode": {
    "name": "ipython",
    "version": 3
   },
   "file_extension": ".py",
   "mimetype": "text/x-python",
   "name": "python",
   "nbconvert_exporter": "python",
   "pygments_lexer": "ipython3",
   "version": "3.8.8"
  }
 },
 "nbformat": 4,
 "nbformat_minor": 5
}
